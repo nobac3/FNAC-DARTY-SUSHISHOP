{
 "cells": [
  {
   "cell_type": "code",
   "execution_count": 1,
   "metadata": {},
   "outputs": [],
   "source": [
    "import pandas as pd \n",
    "import numpy as np\n",
    "import matplotlib.pyplot as plt\n",
    "import re"
   ]
  },
  {
   "cell_type": "markdown",
   "metadata": {},
   "source": [
    "You can have access to this exam on github by clicking on this link: https://github.com/nobac3/FNAC-DARTY-SUSHISHOP/blob/master/Cabon_Antoine%20MD5%20Datascience.ipynb "
   ]
  },
  {
   "cell_type": "code",
   "execution_count": 2,
   "metadata": {},
   "outputs": [],
   "source": [
    "df = pd.read_csv('comments.csv')"
   ]
  },
  {
   "cell_type": "code",
   "execution_count": 3,
   "metadata": {},
   "outputs": [
    {
     "data": {
      "text/html": [
       "<div>\n",
       "<style scoped>\n",
       "    .dataframe tbody tr th:only-of-type {\n",
       "        vertical-align: middle;\n",
       "    }\n",
       "\n",
       "    .dataframe tbody tr th {\n",
       "        vertical-align: top;\n",
       "    }\n",
       "\n",
       "    .dataframe thead th {\n",
       "        text-align: right;\n",
       "    }\n",
       "</style>\n",
       "<table border=\"1\" class=\"dataframe\">\n",
       "  <thead>\n",
       "    <tr style=\"text-align: right;\">\n",
       "      <th></th>\n",
       "      <th>Unnamed: 0</th>\n",
       "      <th>marque</th>\n",
       "      <th>rates</th>\n",
       "      <th>comments</th>\n",
       "      <th>datePublished</th>\n",
       "      <th>dateService</th>\n",
       "      <th>author</th>\n",
       "      <th>answer</th>\n",
       "    </tr>\n",
       "  </thead>\n",
       "  <tbody>\n",
       "    <tr>\n",
       "      <th>0</th>\n",
       "      <td>0</td>\n",
       "      <td>DARTY</td>\n",
       "      <td>5</td>\n",
       "      <td>Site internet clair et simple a la navigation....</td>\n",
       "      <td>2020-08-21</td>\n",
       "      <td>15/07/2020</td>\n",
       "      <td>np.nan</td>\n",
       "      <td>np.nan</td>\n",
       "    </tr>\n",
       "    <tr>\n",
       "      <th>1</th>\n",
       "      <td>1</td>\n",
       "      <td>DARTY</td>\n",
       "      <td>5</td>\n",
       "      <td>Tout bon</td>\n",
       "      <td>2020-08-21</td>\n",
       "      <td>21/06/2020</td>\n",
       "      <td>np.nan</td>\n",
       "      <td>np.nan</td>\n",
       "    </tr>\n",
       "    <tr>\n",
       "      <th>2</th>\n",
       "      <td>2</td>\n",
       "      <td>DARTY</td>\n",
       "      <td>5</td>\n",
       "      <td>La livraison à été conforme à mes attentes. Je...</td>\n",
       "      <td>2020-08-21</td>\n",
       "      <td>15/07/2020</td>\n",
       "      <td>np.nan</td>\n",
       "      <td>np.nan</td>\n",
       "    </tr>\n",
       "    <tr>\n",
       "      <th>3</th>\n",
       "      <td>3</td>\n",
       "      <td>DARTY</td>\n",
       "      <td>4</td>\n",
       "      <td>discordance entre les dates de disponibilité a...</td>\n",
       "      <td>2020-08-21</td>\n",
       "      <td>12/07/2020</td>\n",
       "      <td>np.nan</td>\n",
       "      <td>np.nan</td>\n",
       "    </tr>\n",
       "    <tr>\n",
       "      <th>4</th>\n",
       "      <td>4</td>\n",
       "      <td>DARTY</td>\n",
       "      <td>5</td>\n",
       "      <td>Impossible de faire un lavage à l'eau froide ;...</td>\n",
       "      <td>2020-08-21</td>\n",
       "      <td>25/07/2020</td>\n",
       "      <td>np.nan</td>\n",
       "      <td>np.nan</td>\n",
       "    </tr>\n",
       "  </tbody>\n",
       "</table>\n",
       "</div>"
      ],
      "text/plain": [
       "   Unnamed: 0 marque  rates  \\\n",
       "0           0  DARTY      5   \n",
       "1           1  DARTY      5   \n",
       "2           2  DARTY      5   \n",
       "3           3  DARTY      4   \n",
       "4           4  DARTY      5   \n",
       "\n",
       "                                            comments datePublished  \\\n",
       "0  Site internet clair et simple a la navigation....    2020-08-21   \n",
       "1                                           Tout bon    2020-08-21   \n",
       "2  La livraison à été conforme à mes attentes. Je...    2020-08-21   \n",
       "3  discordance entre les dates de disponibilité a...    2020-08-21   \n",
       "4  Impossible de faire un lavage à l'eau froide ;...    2020-08-21   \n",
       "\n",
       "  dateService  author  answer  \n",
       "0  15/07/2020  np.nan  np.nan  \n",
       "1  21/06/2020  np.nan  np.nan  \n",
       "2  15/07/2020  np.nan  np.nan  \n",
       "3  12/07/2020  np.nan  np.nan  \n",
       "4  25/07/2020  np.nan  np.nan  "
      ]
     },
     "execution_count": 3,
     "metadata": {},
     "output_type": "execute_result"
    }
   ],
   "source": [
    "df.head()"
   ]
  },
  {
   "cell_type": "code",
   "execution_count": 4,
   "metadata": {},
   "outputs": [
    {
     "name": "stdout",
     "output_type": "stream",
     "text": [
      "<class 'pandas.core.frame.DataFrame'>\n",
      "RangeIndex: 90440 entries, 0 to 90439\n",
      "Data columns (total 8 columns):\n",
      "Unnamed: 0       90440 non-null int64\n",
      "marque           90440 non-null object\n",
      "rates            90440 non-null int64\n",
      "comments         90440 non-null object\n",
      "datePublished    90440 non-null object\n",
      "dateService      90440 non-null object\n",
      "author           90440 non-null object\n",
      "answer           90440 non-null object\n",
      "dtypes: int64(2), object(6)\n",
      "memory usage: 5.5+ MB\n"
     ]
    }
   ],
   "source": [
    "df.info()\n",
    "# length of the dataset: 90440"
   ]
  },
  {
   "cell_type": "code",
   "execution_count": 5,
   "metadata": {},
   "outputs": [
    {
     "data": {
      "text/html": [
       "<div>\n",
       "<style scoped>\n",
       "    .dataframe tbody tr th:only-of-type {\n",
       "        vertical-align: middle;\n",
       "    }\n",
       "\n",
       "    .dataframe tbody tr th {\n",
       "        vertical-align: top;\n",
       "    }\n",
       "\n",
       "    .dataframe thead th {\n",
       "        text-align: right;\n",
       "    }\n",
       "</style>\n",
       "<table border=\"1\" class=\"dataframe\">\n",
       "  <thead>\n",
       "    <tr style=\"text-align: right;\">\n",
       "      <th></th>\n",
       "      <th>Unnamed: 0</th>\n",
       "      <th>rates</th>\n",
       "    </tr>\n",
       "  </thead>\n",
       "  <tbody>\n",
       "    <tr>\n",
       "      <th>count</th>\n",
       "      <td>90440.000000</td>\n",
       "      <td>90440.000000</td>\n",
       "    </tr>\n",
       "    <tr>\n",
       "      <th>mean</th>\n",
       "      <td>2084.868200</td>\n",
       "      <td>4.464065</td>\n",
       "    </tr>\n",
       "    <tr>\n",
       "      <th>std</th>\n",
       "      <td>1816.729122</td>\n",
       "      <td>1.015831</td>\n",
       "    </tr>\n",
       "    <tr>\n",
       "      <th>min</th>\n",
       "      <td>0.000000</td>\n",
       "      <td>1.000000</td>\n",
       "    </tr>\n",
       "    <tr>\n",
       "      <th>25%</th>\n",
       "      <td>833.000000</td>\n",
       "      <td>4.000000</td>\n",
       "    </tr>\n",
       "    <tr>\n",
       "      <th>50%</th>\n",
       "      <td>1671.000000</td>\n",
       "      <td>5.000000</td>\n",
       "    </tr>\n",
       "    <tr>\n",
       "      <th>75%</th>\n",
       "      <td>2519.250000</td>\n",
       "      <td>5.000000</td>\n",
       "    </tr>\n",
       "    <tr>\n",
       "      <th>max</th>\n",
       "      <td>10009.000000</td>\n",
       "      <td>5.000000</td>\n",
       "    </tr>\n",
       "  </tbody>\n",
       "</table>\n",
       "</div>"
      ],
      "text/plain": [
       "         Unnamed: 0         rates\n",
       "count  90440.000000  90440.000000\n",
       "mean    2084.868200      4.464065\n",
       "std     1816.729122      1.015831\n",
       "min        0.000000      1.000000\n",
       "25%      833.000000      4.000000\n",
       "50%     1671.000000      5.000000\n",
       "75%     2519.250000      5.000000\n",
       "max    10009.000000      5.000000"
      ]
     },
     "execution_count": 5,
     "metadata": {},
     "output_type": "execute_result"
    }
   ],
   "source": [
    "df.describe()"
   ]
  },
  {
   "cell_type": "code",
   "execution_count": 6,
   "metadata": {},
   "outputs": [],
   "source": [
    "# we have only one numerical column that is the rate. The rest of the dataset contains: dates, comments and categorical columns \n",
    "# the first descriptive analysis that we can conclude is the the mean of the rates which is 4.4 we can conclude that most people are happy with the products they bought"
   ]
  },
  {
   "cell_type": "code",
   "execution_count": 7,
   "metadata": {},
   "outputs": [
    {
     "data": {
      "text/plain": [
       "0"
      ]
     },
     "execution_count": 7,
     "metadata": {},
     "output_type": "execute_result"
    }
   ],
   "source": [
    "# let's first check if we have any null values in our table: \n",
    "\n",
    "df.isnull().sum().sum()"
   ]
  },
  {
   "cell_type": "code",
   "execution_count": 8,
   "metadata": {},
   "outputs": [],
   "source": [
    "# we have no null values in our dataset. But let's verify if each column \n",
    "# we can remove the unnamed column as it is not necessary and only shows the index of the row"
   ]
  },
  {
   "cell_type": "code",
   "execution_count": 9,
   "metadata": {},
   "outputs": [],
   "source": [
    "df = df.drop(columns=['Unnamed: 0'])"
   ]
  },
  {
   "cell_type": "code",
   "execution_count": 10,
   "metadata": {},
   "outputs": [
    {
     "data": {
      "text/html": [
       "<div>\n",
       "<style scoped>\n",
       "    .dataframe tbody tr th:only-of-type {\n",
       "        vertical-align: middle;\n",
       "    }\n",
       "\n",
       "    .dataframe tbody tr th {\n",
       "        vertical-align: top;\n",
       "    }\n",
       "\n",
       "    .dataframe thead th {\n",
       "        text-align: right;\n",
       "    }\n",
       "</style>\n",
       "<table border=\"1\" class=\"dataframe\">\n",
       "  <thead>\n",
       "    <tr style=\"text-align: right;\">\n",
       "      <th></th>\n",
       "      <th>marque</th>\n",
       "      <th>rates</th>\n",
       "      <th>comments</th>\n",
       "      <th>datePublished</th>\n",
       "      <th>dateService</th>\n",
       "      <th>author</th>\n",
       "      <th>answer</th>\n",
       "    </tr>\n",
       "  </thead>\n",
       "  <tbody>\n",
       "    <tr>\n",
       "      <th>0</th>\n",
       "      <td>DARTY</td>\n",
       "      <td>5</td>\n",
       "      <td>Site internet clair et simple a la navigation....</td>\n",
       "      <td>2020-08-21</td>\n",
       "      <td>15/07/2020</td>\n",
       "      <td>np.nan</td>\n",
       "      <td>np.nan</td>\n",
       "    </tr>\n",
       "    <tr>\n",
       "      <th>1</th>\n",
       "      <td>DARTY</td>\n",
       "      <td>5</td>\n",
       "      <td>Tout bon</td>\n",
       "      <td>2020-08-21</td>\n",
       "      <td>21/06/2020</td>\n",
       "      <td>np.nan</td>\n",
       "      <td>np.nan</td>\n",
       "    </tr>\n",
       "    <tr>\n",
       "      <th>2</th>\n",
       "      <td>DARTY</td>\n",
       "      <td>5</td>\n",
       "      <td>La livraison à été conforme à mes attentes. Je...</td>\n",
       "      <td>2020-08-21</td>\n",
       "      <td>15/07/2020</td>\n",
       "      <td>np.nan</td>\n",
       "      <td>np.nan</td>\n",
       "    </tr>\n",
       "    <tr>\n",
       "      <th>3</th>\n",
       "      <td>DARTY</td>\n",
       "      <td>4</td>\n",
       "      <td>discordance entre les dates de disponibilité a...</td>\n",
       "      <td>2020-08-21</td>\n",
       "      <td>12/07/2020</td>\n",
       "      <td>np.nan</td>\n",
       "      <td>np.nan</td>\n",
       "    </tr>\n",
       "    <tr>\n",
       "      <th>4</th>\n",
       "      <td>DARTY</td>\n",
       "      <td>5</td>\n",
       "      <td>Impossible de faire un lavage à l'eau froide ;...</td>\n",
       "      <td>2020-08-21</td>\n",
       "      <td>25/07/2020</td>\n",
       "      <td>np.nan</td>\n",
       "      <td>np.nan</td>\n",
       "    </tr>\n",
       "  </tbody>\n",
       "</table>\n",
       "</div>"
      ],
      "text/plain": [
       "  marque  rates                                           comments  \\\n",
       "0  DARTY      5  Site internet clair et simple a la navigation....   \n",
       "1  DARTY      5                                           Tout bon   \n",
       "2  DARTY      5  La livraison à été conforme à mes attentes. Je...   \n",
       "3  DARTY      4  discordance entre les dates de disponibilité a...   \n",
       "4  DARTY      5  Impossible de faire un lavage à l'eau froide ;...   \n",
       "\n",
       "  datePublished dateService  author  answer  \n",
       "0    2020-08-21  15/07/2020  np.nan  np.nan  \n",
       "1    2020-08-21  21/06/2020  np.nan  np.nan  \n",
       "2    2020-08-21  15/07/2020  np.nan  np.nan  \n",
       "3    2020-08-21  12/07/2020  np.nan  np.nan  \n",
       "4    2020-08-21  25/07/2020  np.nan  np.nan  "
      ]
     },
     "execution_count": 10,
     "metadata": {},
     "output_type": "execute_result"
    }
   ],
   "source": [
    "df.head()\n",
    "# now our dataset is ready to be analysed\n",
    "# we re going to analyse more or less the results of each of those columns"
   ]
  },
  {
   "cell_type": "code",
   "execution_count": 11,
   "metadata": {},
   "outputs": [
    {
     "data": {
      "text/plain": [
       "FNAC         45060\n",
       "DARTY        42870\n",
       "SUSHISHOP     2510\n",
       "Name: marque, dtype: int64"
      ]
     },
     "execution_count": 11,
     "metadata": {},
     "output_type": "execute_result"
    }
   ],
   "source": [
    "df['marque'].value_counts()"
   ]
  },
  {
   "cell_type": "code",
   "execution_count": 12,
   "metadata": {},
   "outputs": [],
   "source": [
    "# Comments come from three party: FNAC DARTY OR SUSHI SHOP"
   ]
  },
  {
   "cell_type": "code",
   "execution_count": 13,
   "metadata": {},
   "outputs": [
    {
     "data": {
      "text/plain": [
       "<matplotlib.axes._subplots.AxesSubplot at 0x1178e85c0>"
      ]
     },
     "execution_count": 13,
     "metadata": {},
     "output_type": "execute_result"
    },
    {
     "data": {
      "image/png": "[encoded data removed]",
      "text/plain": [
       "<Figure size 432x288 with 1 Axes>"
      ]
     },
     "metadata": {
      "needs_background": "light"
     },
     "output_type": "display_data"
    }
   ],
   "source": [
    "df['marque'].value_counts().plot.bar()"
   ]
  },
  {
   "cell_type": "code",
   "execution_count": 14,
   "metadata": {},
   "outputs": [],
   "source": [
    "# based on the graph above we can conclude that most of the comments come from FNAC or DARTY."
   ]
  },
  {
   "cell_type": "code",
   "execution_count": 15,
   "metadata": {},
   "outputs": [
    {
     "data": {
      "text/plain": [
       "5    63033\n",
       "4    16515\n",
       "3     4903\n",
       "1     4182\n",
       "2     1807\n",
       "Name: rates, dtype: int64"
      ]
     },
     "execution_count": 15,
     "metadata": {},
     "output_type": "execute_result"
    }
   ],
   "source": [
    "df['rates'].value_counts()"
   ]
  },
  {
   "cell_type": "code",
   "execution_count": 16,
   "metadata": {},
   "outputs": [],
   "source": [
    "# the rates go from 1 to 5. Let's analyse which brand has the highest rate"
   ]
  },
  {
   "cell_type": "code",
   "execution_count": 17,
   "metadata": {},
   "outputs": [
    {
     "data": {
      "text/plain": [
       "4.523146915224146"
      ]
     },
     "execution_count": 17,
     "metadata": {},
     "output_type": "execute_result"
    }
   ],
   "source": [
    "df[df['marque'] == 'FNAC']['rates'].mean()"
   ]
  },
  {
   "cell_type": "code",
   "execution_count": 18,
   "metadata": {},
   "outputs": [
    {
     "data": {
      "text/plain": [
       "4.418544436668999"
      ]
     },
     "execution_count": 18,
     "metadata": {},
     "output_type": "execute_result"
    }
   ],
   "source": [
    "df[df['marque'] == 'DARTY']['rates'].mean()"
   ]
  },
  {
   "cell_type": "code",
   "execution_count": 19,
   "metadata": {},
   "outputs": [
    {
     "data": {
      "text/plain": [
       "4.180876494023904"
      ]
     },
     "execution_count": 19,
     "metadata": {},
     "output_type": "execute_result"
    }
   ],
   "source": [
    "df[df['marque'] == 'SUSHISHOP']['rates'].mean()"
   ]
  },
  {
   "cell_type": "code",
   "execution_count": 20,
   "metadata": {},
   "outputs": [],
   "source": [
    "# most of our consumers are more happy with fnac products then sushi even though overall people are really happy with the service"
   ]
  },
  {
   "cell_type": "code",
   "execution_count": 21,
   "metadata": {},
   "outputs": [],
   "source": [
    "# for the comment column let's just see how many times the word \"bon\" is used "
   ]
  },
  {
   "cell_type": "code",
   "execution_count": 22,
   "metadata": {},
   "outputs": [],
   "source": [
    "# Convert Dataframe into Scattertext Corpus"
   ]
  },
  {
   "cell_type": "code",
   "execution_count": 23,
   "metadata": {},
   "outputs": [
    {
     "name": "stdout",
     "output_type": "stream",
     "text": [
      "Requirement already satisfied: wordcloud in /usr/local/lib/python3.6/site-packages (1.8.0)\n",
      "Requirement already satisfied: pillow in /usr/local/lib/python3.6/site-packages (from wordcloud) (7.0.0)\n",
      "Requirement already satisfied: matplotlib in /usr/local/lib/python3.6/site-packages (from wordcloud) (3.1.3)\n",
      "Requirement already satisfied: numpy>=1.6.1 in /usr/local/lib/python3.6/site-packages (from wordcloud) (1.18.1)\n",
      "Requirement already satisfied: pyparsing!=2.0.4,!=2.1.2,!=2.1.6,>=2.0.1 in /usr/local/lib/python3.6/site-packages (from matplotlib->wordcloud) (2.4.6)\n",
      "Requirement already satisfied: cycler>=0.10 in /usr/local/lib/python3.6/site-packages (from matplotlib->wordcloud) (0.10.0)\n",
      "Requirement already satisfied: python-dateutil>=2.1 in /usr/local/lib/python3.6/site-packages (from matplotlib->wordcloud) (2.8.0)\n",
      "Requirement already satisfied: kiwisolver>=1.0.1 in /usr/local/lib/python3.6/site-packages (from matplotlib->wordcloud) (1.1.0)\n",
      "Requirement already satisfied: six in /usr/local/lib/python3.6/site-packages (from cycler>=0.10->matplotlib->wordcloud) (1.12.0)\n",
      "Requirement already satisfied: setuptools in /usr/local/lib/python3.6/site-packages (from kiwisolver>=1.0.1->matplotlib->wordcloud) (45.1.0)\n",
      "\u001b[33mWARNING: You are using pip version 20.1.1; however, version 20.2.3 is available.\n",
      "You should consider upgrading via the '/usr/local/opt/python/bin/python3.6 -m pip install --upgrade pip' command.\u001b[0m\n",
      "Note: you may need to restart the kernel to use updated packages.\n"
     ]
    }
   ],
   "source": [
    "pip install wordcloud"
   ]
  },
  {
   "cell_type": "code",
   "execution_count": 24,
   "metadata": {},
   "outputs": [
    {
     "data": {
      "image/png": "[encoded data removed]",
      "text/plain": [
       "<Figure size 720x1440 with 1 Axes>"
      ]
     },
     "metadata": {
      "needs_background": "light"
     },
     "output_type": "display_data"
    }
   ],
   "source": [
    "from wordcloud import WordCloud, STOPWORDS, ImageColorGenerator\n",
    "\n",
    "wordcloud = WordCloud(max_font_size=50, max_words=100, background_color=\"white\").generate(' '.join(list(df['comments'])))\n",
    "plt.figure(figsize=(10, 20))\n",
    "plt.imshow(wordcloud, interpolation=\"bilinear\")\n",
    "plt.axis(\"off\")\n",
    "plt.show()"
   ]
  },
  {
   "cell_type": "code",
   "execution_count": 25,
   "metadata": {},
   "outputs": [],
   "source": [
    "# the analysis above represents the words most used in the comments\n",
    "# based on this first analysis the most words used are: Fnac, Rapide, Très bien Très satisfaite, livraison\n",
    "# in our word cloud we can see that a lot of words don't need to be there and they don't tell us a lot about the meaning of review of the service. So we can clean the data by removing the articles and putting each word in a list for later analysis"
   ]
  },
  {
   "cell_type": "code",
   "execution_count": 26,
   "metadata": {},
   "outputs": [
    {
     "name": "stderr",
     "output_type": "stream",
     "text": [
      "[nltk_data] Downloading package wordnet to /Users/antoine/nltk_data...\n",
      "[nltk_data]   Package wordnet is already up-to-date!\n"
     ]
    }
   ],
   "source": [
    "import nltk\n",
    "nltk.download('wordnet')\n",
    "from nltk.stem import WordNetLemmatizer"
   ]
  },
  {
   "cell_type": "code",
   "execution_count": 27,
   "metadata": {},
   "outputs": [],
   "source": [
    "from nltk import word_tokenize\n",
    "from nltk.corpus import stopwords"
   ]
  },
  {
   "cell_type": "code",
   "execution_count": 28,
   "metadata": {},
   "outputs": [],
   "source": [
    "lemmatizer = WordNetLemmatizer()\n",
    "stop_words = set(stopwords.words(\"french\"))"
   ]
  },
  {
   "cell_type": "code",
   "execution_count": 29,
   "metadata": {},
   "outputs": [],
   "source": [
    "def clean_review(raw_review: str) -> str:\n",
    "    \n",
    "    raw_review = ''.join([i for i in raw_review if not i.isdigit()])\n",
    "    raw_review = raw_review.replace('<br />', '')\n",
    "    raw_review = re.sub('[^A-Za-z]+', ' ', raw_review)\n",
    "    raw_review = ' '.join(raw_review.split())\n",
    "    raw_review = raw_review.lstrip()\\\n",
    "    .rstrip()\\\n",
    "    .lower()\n",
    "    \n",
    "    return raw_review\n",
    "\n",
    "def lemmatize(tokens: list) -> list:\n",
    "    # 1. Lemmatize\n",
    "    tokens = list(map(lemmatizer.lemmatize, tokens))\n",
    "    lemmatized_tokens = list(map(lambda x: lemmatizer.lemmatize(x, \"v\"), tokens))\n",
    "    # 2. Remove stop words\n",
    "    meaningful_words = list(filter(lambda x: not x in stop_words, lemmatized_tokens))\n",
    "    return meaningful_words\n",
    "\n",
    "def preprocess(review: str, total: int, show_progress: bool = True) -> list:\n",
    "    if show_progress:\n",
    "        global counter\n",
    "        counter += 1\n",
    "        print('Processing... %6i/%6i'% (counter, total), end='\\r')\n",
    "    # 1. Clean text\n",
    "    review = clean_review(review)\n",
    "    # 2. Split into individual words\n",
    "    tokens = word_tokenize(review)\n",
    "    # 3. Lemmatize\n",
    "    lemmas = lemmatize(tokens)\n",
    "    # 4. Join the words back into one string separated by space,\n",
    "    # and return the result.\n",
    "    return ' '.join(lemmas)"
   ]
  },
  {
   "cell_type": "code",
   "execution_count": 30,
   "metadata": {},
   "outputs": [],
   "source": [
    "# out of our definition above we get a corpus of all our comments. Let's see how this looks like"
   ]
  },
  {
   "cell_type": "code",
   "execution_count": 31,
   "metadata": {},
   "outputs": [
    {
     "name": "stdout",
     "output_type": "stream",
     "text": [
      "Processing...  90440/ 90440\r"
     ]
    }
   ],
   "source": [
    "counter = 0\n",
    "corpus = np.array(list(map(lambda x: preprocess(x, len(df['comments'])), df['comments'])))"
   ]
  },
  {
   "cell_type": "code",
   "execution_count": 32,
   "metadata": {},
   "outputs": [],
   "source": [
    "# we can verify if our corpus was done properly \n",
    "# let's see what the first row has to offer"
   ]
  },
  {
   "cell_type": "code",
   "execution_count": 33,
   "metadata": {},
   "outputs": [
    {
     "data": {
      "text/plain": [
       "'Site internet clair et simple a la navigation. Parfait'"
      ]
     },
     "execution_count": 33,
     "metadata": {},
     "output_type": "execute_result"
    }
   ],
   "source": [
    "# before\n",
    "df['comments'][0]"
   ]
  },
  {
   "cell_type": "code",
   "execution_count": 34,
   "metadata": {},
   "outputs": [
    {
     "data": {
      "text/plain": [
       "'site internet clair simple a navigation parfait'"
      ]
     },
     "execution_count": 34,
     "metadata": {},
     "output_type": "execute_result"
    }
   ],
   "source": [
    "# after\n",
    "corpus[0]"
   ]
  },
  {
   "cell_type": "code",
   "execution_count": 35,
   "metadata": {},
   "outputs": [],
   "source": [
    "# now let's look into the date published column"
   ]
  },
  {
   "cell_type": "code",
   "execution_count": 36,
   "metadata": {},
   "outputs": [],
   "source": [
    "# we need to convert the object column into actual dates\n",
    "df['datePublished'] = pd.to_datetime(df['datePublished'], format='%Y-%m-%d', errors='ignore')"
   ]
  },
  {
   "cell_type": "code",
   "execution_count": 37,
   "metadata": {},
   "outputs": [],
   "source": [
    "df['dateService'] = pd.to_datetime(df['dateService'], format='%d/%m/%Y', errors='ignore')"
   ]
  },
  {
   "cell_type": "code",
   "execution_count": 38,
   "metadata": {},
   "outputs": [],
   "source": [
    "df['datePublishedYear'] = df['datePublished'].dt.year "
   ]
  },
  {
   "cell_type": "code",
   "execution_count": 39,
   "metadata": {},
   "outputs": [],
   "source": [
    "df['dateServiceYear'] = df['dateService'].dt.year"
   ]
  },
  {
   "cell_type": "code",
   "execution_count": 40,
   "metadata": {},
   "outputs": [],
   "source": [
    "# let's see which year has the most reviews "
   ]
  },
  {
   "cell_type": "code",
   "execution_count": 41,
   "metadata": {},
   "outputs": [
    {
     "data": {
      "text/plain": [
       "<matplotlib.axes._subplots.AxesSubplot at 0x128e1a940>"
      ]
     },
     "execution_count": 41,
     "metadata": {},
     "output_type": "execute_result"
    },
    {
     "data": {
      "image/png": "[encoded data removed]",
      "text/plain": [
       "<Figure size 432x288 with 1 Axes>"
      ]
     },
     "metadata": {
      "needs_background": "light"
     },
     "output_type": "display_data"
    }
   ],
   "source": [
    "df['dateServiceYear'].value_counts().plot.bar()"
   ]
  },
  {
   "cell_type": "code",
   "execution_count": 42,
   "metadata": {},
   "outputs": [],
   "source": [
    "# ok most of the date service year was in 2020 "
   ]
  },
  {
   "cell_type": "code",
   "execution_count": 43,
   "metadata": {},
   "outputs": [
    {
     "data": {
      "text/plain": [
       "<matplotlib.axes._subplots.AxesSubplot at 0x128d79278>"
      ]
     },
     "execution_count": 43,
     "metadata": {},
     "output_type": "execute_result"
    },
    {
     "data": {
      "image/png": "[encoded data removed]",
      "text/plain": [
       "<Figure size 432x288 with 1 Axes>"
      ]
     },
     "metadata": {
      "needs_background": "light"
     },
     "output_type": "display_data"
    }
   ],
   "source": [
    "df['datePublishedYear'].value_counts().plot.bar()"
   ]
  },
  {
   "cell_type": "code",
   "execution_count": 44,
   "metadata": {},
   "outputs": [],
   "source": [
    "# the publish year was in 2020 or 2019 but mostly in 2020 "
   ]
  },
  {
   "cell_type": "code",
   "execution_count": 45,
   "metadata": {},
   "outputs": [],
   "source": [
    "# now our last columns: author and answer"
   ]
  },
  {
   "cell_type": "code",
   "execution_count": 46,
   "metadata": {},
   "outputs": [
    {
     "data": {
      "text/plain": [
       "np.nan                   89915\n",
       "FNAC SA                    309\n",
       "SUSHI SHOP MANAGEMENT      141\n",
       "DARTY                       75\n",
       "Name: author, dtype: int64"
      ]
     },
     "execution_count": 46,
     "metadata": {},
     "output_type": "execute_result"
    }
   ],
   "source": [
    "df['author'].value_counts()"
   ]
  },
  {
   "cell_type": "code",
   "execution_count": 47,
   "metadata": {},
   "outputs": [],
   "source": [
    "# let's dig into the answers a little bit"
   ]
  },
  {
   "cell_type": "code",
   "execution_count": 48,
   "metadata": {},
   "outputs": [
    {
     "data": {
      "text/plain": [
       "141"
      ]
     },
     "execution_count": 48,
     "metadata": {},
     "output_type": "execute_result"
    }
   ],
   "source": [
    "len(df[(df['author']== 'SUSHI SHOP MANAGEMENT') & (df['marque']=='SUSHISHOP')])"
   ]
  },
  {
   "cell_type": "code",
   "execution_count": 49,
   "metadata": {},
   "outputs": [
    {
     "data": {
      "text/plain": [
       "309"
      ]
     },
     "execution_count": 49,
     "metadata": {},
     "output_type": "execute_result"
    }
   ],
   "source": [
    "len(df[(df['author']== 'FNAC SA') & (df['marque']=='FNAC')])"
   ]
  },
  {
   "cell_type": "code",
   "execution_count": 50,
   "metadata": {},
   "outputs": [
    {
     "data": {
      "text/plain": [
       "75"
      ]
     },
     "execution_count": 50,
     "metadata": {},
     "output_type": "execute_result"
    }
   ],
   "source": [
    "len(df[(df['author']== 'DARTY') & (df['marque']=='DARTY')])"
   ]
  },
  {
   "cell_type": "code",
   "execution_count": 51,
   "metadata": {},
   "outputs": [
    {
     "data": {
      "text/html": [
       "<div>\n",
       "<style scoped>\n",
       "    .dataframe tbody tr th:only-of-type {\n",
       "        vertical-align: middle;\n",
       "    }\n",
       "\n",
       "    .dataframe tbody tr th {\n",
       "        vertical-align: top;\n",
       "    }\n",
       "\n",
       "    .dataframe thead th {\n",
       "        text-align: right;\n",
       "    }\n",
       "</style>\n",
       "<table border=\"1\" class=\"dataframe\">\n",
       "  <thead>\n",
       "    <tr style=\"text-align: right;\">\n",
       "      <th></th>\n",
       "      <th>rates</th>\n",
       "      <th>datePublishedYear</th>\n",
       "      <th>dateServiceYear</th>\n",
       "    </tr>\n",
       "  </thead>\n",
       "  <tbody>\n",
       "    <tr>\n",
       "      <th>count</th>\n",
       "      <td>525.000000</td>\n",
       "      <td>525.000000</td>\n",
       "      <td>525.000000</td>\n",
       "    </tr>\n",
       "    <tr>\n",
       "      <th>mean</th>\n",
       "      <td>2.460952</td>\n",
       "      <td>2019.954286</td>\n",
       "      <td>2019.939048</td>\n",
       "    </tr>\n",
       "    <tr>\n",
       "      <th>std</th>\n",
       "      <td>1.390020</td>\n",
       "      <td>0.209064</td>\n",
       "      <td>0.262291</td>\n",
       "    </tr>\n",
       "    <tr>\n",
       "      <th>min</th>\n",
       "      <td>1.000000</td>\n",
       "      <td>2019.000000</td>\n",
       "      <td>2017.000000</td>\n",
       "    </tr>\n",
       "    <tr>\n",
       "      <th>25%</th>\n",
       "      <td>1.000000</td>\n",
       "      <td>2020.000000</td>\n",
       "      <td>2020.000000</td>\n",
       "    </tr>\n",
       "    <tr>\n",
       "      <th>50%</th>\n",
       "      <td>2.000000</td>\n",
       "      <td>2020.000000</td>\n",
       "      <td>2020.000000</td>\n",
       "    </tr>\n",
       "    <tr>\n",
       "      <th>75%</th>\n",
       "      <td>3.000000</td>\n",
       "      <td>2020.000000</td>\n",
       "      <td>2020.000000</td>\n",
       "    </tr>\n",
       "    <tr>\n",
       "      <th>max</th>\n",
       "      <td>5.000000</td>\n",
       "      <td>2020.000000</td>\n",
       "      <td>2020.000000</td>\n",
       "    </tr>\n",
       "  </tbody>\n",
       "</table>\n",
       "</div>"
      ],
      "text/plain": [
       "            rates  datePublishedYear  dateServiceYear\n",
       "count  525.000000         525.000000       525.000000\n",
       "mean     2.460952        2019.954286      2019.939048\n",
       "std      1.390020           0.209064         0.262291\n",
       "min      1.000000        2019.000000      2017.000000\n",
       "25%      1.000000        2020.000000      2020.000000\n",
       "50%      2.000000        2020.000000      2020.000000\n",
       "75%      3.000000        2020.000000      2020.000000\n",
       "max      5.000000        2020.000000      2020.000000"
      ]
     },
     "execution_count": 51,
     "metadata": {},
     "output_type": "execute_result"
    }
   ],
   "source": [
    "df[df['answer'] != 'np.nan'].describe()"
   ]
  },
  {
   "cell_type": "markdown",
   "metadata": {},
   "source": [
    "First and foremost,, this is definitely  a dataset that contains comments about a service used by a consumer. (either Darty, Fnac or Sushi Shop)\n",
    "\n",
    "My first guess is that the data was scraped online, either on google reviews or trip advisor. \n",
    "\n",
    "One thing that really points out is the fact the management team responds to the comments when the consumer was unsatisfied with his or her experience. We can see when there is a response from the marketing team it is because the average rate is 2.46. As we can see from the table above. \n",
    "\n",
    "Also, my guess is that the difference between date service and date published is the date of the time the consumer used the service and the published date is when the consumer wrote a comment online. \n",
    "\n",
    "Last but not least, there are a lot of things that can be done with this dataset. First it would be to predict the rate of the user based on his comment or predict if there will be an answer to the comment by the management team.\n"
   ]
  },
  {
   "cell_type": "markdown",
   "metadata": {},
   "source": [
    "## II Prévision de volumes de commentaires "
   ]
  },
  {
   "cell_type": "markdown",
   "metadata": {},
   "source": [
    "(1) In order to respond to this challenge, la Fnac and Darty could create a server container with a cron task. Inside this cron task it would include a web scraping algorithm capable of adding every minute the comments into the database. The date would be the most important feature in this case. A simple anlysis would be enough for this data. In other words, looking at a histogram when most comments are posted gives an idea of when most comments are posted. \n",
    "\n",
    "If they'd want include machine learning in this challenge, they could group the number of comments per month and predict with a random forest the number of comments they will have for the next year. "
   ]
  },
  {
   "cell_type": "code",
   "execution_count": 52,
   "metadata": {},
   "outputs": [
    {
     "data": {
      "text/plain": [
       "<matplotlib.axes._subplots.AxesSubplot at 0x1290bdcc0>"
      ]
     },
     "execution_count": 52,
     "metadata": {},
     "output_type": "execute_result"
    },
    {
     "data": {
      "image/png": "[encoded data removed]",
      "text/plain": [
       "<Figure size 432x288 with 1 Axes>"
      ]
     },
     "metadata": {
      "needs_background": "light"
     },
     "output_type": "display_data"
    }
   ],
   "source": [
    "df['datePublishedMonth'] = df['datePublished'].dt.month\n",
    "df['datePublishedDay'] = df['datePublished'].dt.day\n",
    "df[df['datePublishedYear'] == 2020]['datePublishedMonth'].value_counts().plot.bar()"
   ]
  },
  {
   "cell_type": "markdown",
   "metadata": {},
   "source": [
    "In 2020 here is this is a perfect example, most of the comments were posted in June, July and August "
   ]
  },
  {
   "cell_type": "code",
   "execution_count": 53,
   "metadata": {},
   "outputs": [],
   "source": [
    "# we have already added two columns in the previous section by adding the year and month of the published year\n",
    "# we can add more by looking at the time it took for a user to write a comment. We can call this column publishedSerpublishedServiceDifferencevice"
   ]
  },
  {
   "cell_type": "code",
   "execution_count": 54,
   "metadata": {},
   "outputs": [],
   "source": [
    "df['publishedServiceDifference'] = df['datePublished']-df['dateService']"
   ]
  },
  {
   "cell_type": "code",
   "execution_count": 55,
   "metadata": {},
   "outputs": [
    {
     "data": {
      "text/plain": [
       "Timedelta('26 days 04:21:48.482972')"
      ]
     },
     "execution_count": 55,
     "metadata": {},
     "output_type": "execute_result"
    }
   ],
   "source": [
    "df['publishedServiceDifference'].mean()"
   ]
  },
  {
   "cell_type": "code",
   "execution_count": 56,
   "metadata": {},
   "outputs": [],
   "source": [
    "# in average consumers took 26 days to post a review"
   ]
  },
  {
   "cell_type": "code",
   "execution_count": 57,
   "metadata": {},
   "outputs": [
    {
     "data": {
      "text/html": [
       "<div>\n",
       "<style scoped>\n",
       "    .dataframe tbody tr th:only-of-type {\n",
       "        vertical-align: middle;\n",
       "    }\n",
       "\n",
       "    .dataframe tbody tr th {\n",
       "        vertical-align: top;\n",
       "    }\n",
       "\n",
       "    .dataframe thead th {\n",
       "        text-align: right;\n",
       "    }\n",
       "</style>\n",
       "<table border=\"1\" class=\"dataframe\">\n",
       "  <thead>\n",
       "    <tr style=\"text-align: right;\">\n",
       "      <th></th>\n",
       "      <th>marque</th>\n",
       "      <th>rates</th>\n",
       "      <th>comments</th>\n",
       "      <th>datePublished</th>\n",
       "      <th>dateService</th>\n",
       "      <th>author</th>\n",
       "      <th>answer</th>\n",
       "      <th>datePublishedYear</th>\n",
       "      <th>dateServiceYear</th>\n",
       "      <th>datePublishedMonth</th>\n",
       "      <th>datePublishedDay</th>\n",
       "      <th>publishedServiceDifference</th>\n",
       "    </tr>\n",
       "  </thead>\n",
       "  <tbody>\n",
       "    <tr>\n",
       "      <th>0</th>\n",
       "      <td>DARTY</td>\n",
       "      <td>5</td>\n",
       "      <td>Site internet clair et simple a la navigation....</td>\n",
       "      <td>2020-08-21</td>\n",
       "      <td>2020-07-15</td>\n",
       "      <td>np.nan</td>\n",
       "      <td>np.nan</td>\n",
       "      <td>2020</td>\n",
       "      <td>2020</td>\n",
       "      <td>8</td>\n",
       "      <td>21</td>\n",
       "      <td>37 days</td>\n",
       "    </tr>\n",
       "    <tr>\n",
       "      <th>1</th>\n",
       "      <td>DARTY</td>\n",
       "      <td>5</td>\n",
       "      <td>Tout bon</td>\n",
       "      <td>2020-08-21</td>\n",
       "      <td>2020-06-21</td>\n",
       "      <td>np.nan</td>\n",
       "      <td>np.nan</td>\n",
       "      <td>2020</td>\n",
       "      <td>2020</td>\n",
       "      <td>8</td>\n",
       "      <td>21</td>\n",
       "      <td>61 days</td>\n",
       "    </tr>\n",
       "    <tr>\n",
       "      <th>2</th>\n",
       "      <td>DARTY</td>\n",
       "      <td>5</td>\n",
       "      <td>La livraison à été conforme à mes attentes. Je...</td>\n",
       "      <td>2020-08-21</td>\n",
       "      <td>2020-07-15</td>\n",
       "      <td>np.nan</td>\n",
       "      <td>np.nan</td>\n",
       "      <td>2020</td>\n",
       "      <td>2020</td>\n",
       "      <td>8</td>\n",
       "      <td>21</td>\n",
       "      <td>37 days</td>\n",
       "    </tr>\n",
       "    <tr>\n",
       "      <th>3</th>\n",
       "      <td>DARTY</td>\n",
       "      <td>4</td>\n",
       "      <td>discordance entre les dates de disponibilité a...</td>\n",
       "      <td>2020-08-21</td>\n",
       "      <td>2020-07-12</td>\n",
       "      <td>np.nan</td>\n",
       "      <td>np.nan</td>\n",
       "      <td>2020</td>\n",
       "      <td>2020</td>\n",
       "      <td>8</td>\n",
       "      <td>21</td>\n",
       "      <td>40 days</td>\n",
       "    </tr>\n",
       "    <tr>\n",
       "      <th>4</th>\n",
       "      <td>DARTY</td>\n",
       "      <td>5</td>\n",
       "      <td>Impossible de faire un lavage à l'eau froide ;...</td>\n",
       "      <td>2020-08-21</td>\n",
       "      <td>2020-07-25</td>\n",
       "      <td>np.nan</td>\n",
       "      <td>np.nan</td>\n",
       "      <td>2020</td>\n",
       "      <td>2020</td>\n",
       "      <td>8</td>\n",
       "      <td>21</td>\n",
       "      <td>27 days</td>\n",
       "    </tr>\n",
       "  </tbody>\n",
       "</table>\n",
       "</div>"
      ],
      "text/plain": [
       "  marque  rates                                           comments  \\\n",
       "0  DARTY      5  Site internet clair et simple a la navigation....   \n",
       "1  DARTY      5                                           Tout bon   \n",
       "2  DARTY      5  La livraison à été conforme à mes attentes. Je...   \n",
       "3  DARTY      4  discordance entre les dates de disponibilité a...   \n",
       "4  DARTY      5  Impossible de faire un lavage à l'eau froide ;...   \n",
       "\n",
       "  datePublished dateService  author  answer  datePublishedYear  \\\n",
       "0    2020-08-21  2020-07-15  np.nan  np.nan               2020   \n",
       "1    2020-08-21  2020-06-21  np.nan  np.nan               2020   \n",
       "2    2020-08-21  2020-07-15  np.nan  np.nan               2020   \n",
       "3    2020-08-21  2020-07-12  np.nan  np.nan               2020   \n",
       "4    2020-08-21  2020-07-25  np.nan  np.nan               2020   \n",
       "\n",
       "   dateServiceYear  datePublishedMonth  datePublishedDay  \\\n",
       "0             2020                   8                21   \n",
       "1             2020                   8                21   \n",
       "2             2020                   8                21   \n",
       "3             2020                   8                21   \n",
       "4             2020                   8                21   \n",
       "\n",
       "  publishedServiceDifference  \n",
       "0                    37 days  \n",
       "1                    61 days  \n",
       "2                    37 days  \n",
       "3                    40 days  \n",
       "4                    27 days  "
      ]
     },
     "execution_count": 57,
     "metadata": {},
     "output_type": "execute_result"
    }
   ],
   "source": [
    "df.head()"
   ]
  },
  {
   "cell_type": "code",
   "execution_count": 58,
   "metadata": {},
   "outputs": [
    {
     "data": {
      "text/plain": [
       "Index(['marque', 'rates', 'comments', 'datePublished', 'dateService', 'author',\n",
       "       'answer', 'datePublishedYear', 'dateServiceYear', 'datePublishedMonth',\n",
       "       'datePublishedDay', 'publishedServiceDifference'],\n",
       "      dtype='object')"
      ]
     },
     "execution_count": 58,
     "metadata": {},
     "output_type": "execute_result"
    }
   ],
   "source": [
    "df.columns "
   ]
  },
  {
   "cell_type": "code",
   "execution_count": 59,
   "metadata": {},
   "outputs": [],
   "source": [
    "dfPredictAffluence = df.drop(columns=['marque', 'rates', 'comments', 'dateService', 'author',\n",
    "       'answer', 'dateServiceYear',\n",
    "       'publishedServiceDifference'])\n"
   ]
  },
  {
   "cell_type": "code",
   "execution_count": 60,
   "metadata": {},
   "outputs": [
    {
     "data": {
      "text/html": [
       "<div>\n",
       "<style scoped>\n",
       "    .dataframe tbody tr th:only-of-type {\n",
       "        vertical-align: middle;\n",
       "    }\n",
       "\n",
       "    .dataframe tbody tr th {\n",
       "        vertical-align: top;\n",
       "    }\n",
       "\n",
       "    .dataframe thead th {\n",
       "        text-align: right;\n",
       "    }\n",
       "</style>\n",
       "<table border=\"1\" class=\"dataframe\">\n",
       "  <thead>\n",
       "    <tr style=\"text-align: right;\">\n",
       "      <th></th>\n",
       "      <th>datePublished</th>\n",
       "      <th>datePublishedYear</th>\n",
       "      <th>datePublishedMonth</th>\n",
       "      <th>datePublishedDay</th>\n",
       "    </tr>\n",
       "  </thead>\n",
       "  <tbody>\n",
       "    <tr>\n",
       "      <th>0</th>\n",
       "      <td>2020-08-21</td>\n",
       "      <td>2020</td>\n",
       "      <td>8</td>\n",
       "      <td>21</td>\n",
       "    </tr>\n",
       "    <tr>\n",
       "      <th>1</th>\n",
       "      <td>2020-08-21</td>\n",
       "      <td>2020</td>\n",
       "      <td>8</td>\n",
       "      <td>21</td>\n",
       "    </tr>\n",
       "    <tr>\n",
       "      <th>2</th>\n",
       "      <td>2020-08-21</td>\n",
       "      <td>2020</td>\n",
       "      <td>8</td>\n",
       "      <td>21</td>\n",
       "    </tr>\n",
       "    <tr>\n",
       "      <th>3</th>\n",
       "      <td>2020-08-21</td>\n",
       "      <td>2020</td>\n",
       "      <td>8</td>\n",
       "      <td>21</td>\n",
       "    </tr>\n",
       "    <tr>\n",
       "      <th>4</th>\n",
       "      <td>2020-08-21</td>\n",
       "      <td>2020</td>\n",
       "      <td>8</td>\n",
       "      <td>21</td>\n",
       "    </tr>\n",
       "  </tbody>\n",
       "</table>\n",
       "</div>"
      ],
      "text/plain": [
       "  datePublished  datePublishedYear  datePublishedMonth  datePublishedDay\n",
       "0    2020-08-21               2020                   8                21\n",
       "1    2020-08-21               2020                   8                21\n",
       "2    2020-08-21               2020                   8                21\n",
       "3    2020-08-21               2020                   8                21\n",
       "4    2020-08-21               2020                   8                21"
      ]
     },
     "execution_count": 60,
     "metadata": {},
     "output_type": "execute_result"
    }
   ],
   "source": [
    "dfPredictAffluence.head()"
   ]
  },
  {
   "cell_type": "code",
   "execution_count": 61,
   "metadata": {},
   "outputs": [
    {
     "data": {
      "text/plain": [
       "<matplotlib.axes._subplots.AxesSubplot at 0x129649a90>"
      ]
     },
     "execution_count": 61,
     "metadata": {},
     "output_type": "execute_result"
    },
    {
     "data": {
      "image/png": "[encoded data removed]",
      "text/plain": [
       "<Figure size 432x288 with 1 Axes>"
      ]
     },
     "metadata": {
      "needs_background": "light"
     },
     "output_type": "display_data"
    }
   ],
   "source": [
    "dfPredictAffluence.groupby('datePublishedMonth').count().plot.bar()"
   ]
  },
  {
   "cell_type": "code",
   "execution_count": 62,
   "metadata": {},
   "outputs": [],
   "source": [
    "# above we have the appropriate model that shows the number of the comments posted during the year. We can see that most comments were posted in june, july or August. this is when they'd need to hire more stuff to response to people. \n",
    "# now let's predict the published date of our dataset: "
   ]
  },
  {
   "cell_type": "code",
   "execution_count": null,
   "metadata": {},
   "outputs": [],
   "source": []
  },
  {
   "cell_type": "code",
   "execution_count": 64,
   "metadata": {},
   "outputs": [],
   "source": [
    "import datetime as dt\n",
    "df['datePublishedNumerical']=df['datePublished'].map(dt.datetime.toordinal)\n",
    "df['dateServiceNumerical']=df['dateService'].map(dt.datetime.toordinal)"
   ]
  },
  {
   "cell_type": "code",
   "execution_count": 65,
   "metadata": {},
   "outputs": [],
   "source": [
    "df['publishedServiceDifference'] = df['publishedServiceDifference'].dt.days"
   ]
  },
  {
   "cell_type": "code",
   "execution_count": 66,
   "metadata": {},
   "outputs": [
    {
     "data": {
      "text/html": [
       "<div>\n",
       "<style scoped>\n",
       "    .dataframe tbody tr th:only-of-type {\n",
       "        vertical-align: middle;\n",
       "    }\n",
       "\n",
       "    .dataframe tbody tr th {\n",
       "        vertical-align: top;\n",
       "    }\n",
       "\n",
       "    .dataframe thead th {\n",
       "        text-align: right;\n",
       "    }\n",
       "</style>\n",
       "<table border=\"1\" class=\"dataframe\">\n",
       "  <thead>\n",
       "    <tr style=\"text-align: right;\">\n",
       "      <th></th>\n",
       "      <th>marque</th>\n",
       "      <th>rates</th>\n",
       "      <th>comments</th>\n",
       "      <th>datePublished</th>\n",
       "      <th>dateService</th>\n",
       "      <th>author</th>\n",
       "      <th>answer</th>\n",
       "      <th>datePublishedYear</th>\n",
       "      <th>dateServiceYear</th>\n",
       "      <th>datePublishedMonth</th>\n",
       "      <th>datePublishedDay</th>\n",
       "      <th>publishedServiceDifference</th>\n",
       "      <th>datePublishedNumerical</th>\n",
       "      <th>dateServiceNumerical</th>\n",
       "    </tr>\n",
       "  </thead>\n",
       "  <tbody>\n",
       "    <tr>\n",
       "      <th>0</th>\n",
       "      <td>DARTY</td>\n",
       "      <td>5</td>\n",
       "      <td>Site internet clair et simple a la navigation....</td>\n",
       "      <td>2020-08-21</td>\n",
       "      <td>2020-07-15</td>\n",
       "      <td>np.nan</td>\n",
       "      <td>np.nan</td>\n",
       "      <td>2020</td>\n",
       "      <td>2020</td>\n",
       "      <td>8</td>\n",
       "      <td>21</td>\n",
       "      <td>37</td>\n",
       "      <td>737658</td>\n",
       "      <td>737621</td>\n",
       "    </tr>\n",
       "    <tr>\n",
       "      <th>1</th>\n",
       "      <td>DARTY</td>\n",
       "      <td>5</td>\n",
       "      <td>Tout bon</td>\n",
       "      <td>2020-08-21</td>\n",
       "      <td>2020-06-21</td>\n",
       "      <td>np.nan</td>\n",
       "      <td>np.nan</td>\n",
       "      <td>2020</td>\n",
       "      <td>2020</td>\n",
       "      <td>8</td>\n",
       "      <td>21</td>\n",
       "      <td>61</td>\n",
       "      <td>737658</td>\n",
       "      <td>737597</td>\n",
       "    </tr>\n",
       "    <tr>\n",
       "      <th>2</th>\n",
       "      <td>DARTY</td>\n",
       "      <td>5</td>\n",
       "      <td>La livraison à été conforme à mes attentes. Je...</td>\n",
       "      <td>2020-08-21</td>\n",
       "      <td>2020-07-15</td>\n",
       "      <td>np.nan</td>\n",
       "      <td>np.nan</td>\n",
       "      <td>2020</td>\n",
       "      <td>2020</td>\n",
       "      <td>8</td>\n",
       "      <td>21</td>\n",
       "      <td>37</td>\n",
       "      <td>737658</td>\n",
       "      <td>737621</td>\n",
       "    </tr>\n",
       "    <tr>\n",
       "      <th>3</th>\n",
       "      <td>DARTY</td>\n",
       "      <td>4</td>\n",
       "      <td>discordance entre les dates de disponibilité a...</td>\n",
       "      <td>2020-08-21</td>\n",
       "      <td>2020-07-12</td>\n",
       "      <td>np.nan</td>\n",
       "      <td>np.nan</td>\n",
       "      <td>2020</td>\n",
       "      <td>2020</td>\n",
       "      <td>8</td>\n",
       "      <td>21</td>\n",
       "      <td>40</td>\n",
       "      <td>737658</td>\n",
       "      <td>737618</td>\n",
       "    </tr>\n",
       "    <tr>\n",
       "      <th>4</th>\n",
       "      <td>DARTY</td>\n",
       "      <td>5</td>\n",
       "      <td>Impossible de faire un lavage à l'eau froide ;...</td>\n",
       "      <td>2020-08-21</td>\n",
       "      <td>2020-07-25</td>\n",
       "      <td>np.nan</td>\n",
       "      <td>np.nan</td>\n",
       "      <td>2020</td>\n",
       "      <td>2020</td>\n",
       "      <td>8</td>\n",
       "      <td>21</td>\n",
       "      <td>27</td>\n",
       "      <td>737658</td>\n",
       "      <td>737631</td>\n",
       "    </tr>\n",
       "  </tbody>\n",
       "</table>\n",
       "</div>"
      ],
      "text/plain": [
       "  marque  rates                                           comments  \\\n",
       "0  DARTY      5  Site internet clair et simple a la navigation....   \n",
       "1  DARTY      5                                           Tout bon   \n",
       "2  DARTY      5  La livraison à été conforme à mes attentes. Je...   \n",
       "3  DARTY      4  discordance entre les dates de disponibilité a...   \n",
       "4  DARTY      5  Impossible de faire un lavage à l'eau froide ;...   \n",
       "\n",
       "  datePublished dateService  author  answer  datePublishedYear  \\\n",
       "0    2020-08-21  2020-07-15  np.nan  np.nan               2020   \n",
       "1    2020-08-21  2020-06-21  np.nan  np.nan               2020   \n",
       "2    2020-08-21  2020-07-15  np.nan  np.nan               2020   \n",
       "3    2020-08-21  2020-07-12  np.nan  np.nan               2020   \n",
       "4    2020-08-21  2020-07-25  np.nan  np.nan               2020   \n",
       "\n",
       "   dateServiceYear  datePublishedMonth  datePublishedDay  \\\n",
       "0             2020                   8                21   \n",
       "1             2020                   8                21   \n",
       "2             2020                   8                21   \n",
       "3             2020                   8                21   \n",
       "4             2020                   8                21   \n",
       "\n",
       "   publishedServiceDifference  datePublishedNumerical  dateServiceNumerical  \n",
       "0                          37                  737658                737621  \n",
       "1                          61                  737658                737597  \n",
       "2                          37                  737658                737621  \n",
       "3                          40                  737658                737618  \n",
       "4                          27                  737658                737631  "
      ]
     },
     "execution_count": 66,
     "metadata": {},
     "output_type": "execute_result"
    }
   ],
   "source": [
    "df.head()"
   ]
  },
  {
   "cell_type": "code",
   "execution_count": 67,
   "metadata": {},
   "outputs": [],
   "source": [
    "from sklearn.linear_model import LinearRegression"
   ]
  },
  {
   "cell_type": "code",
   "execution_count": 68,
   "metadata": {},
   "outputs": [
    {
     "data": {
      "text/plain": [
       "Index(['marque', 'rates', 'comments', 'datePublished', 'dateService', 'author',\n",
       "       'answer', 'datePublishedYear', 'dateServiceYear', 'datePublishedMonth',\n",
       "       'datePublishedDay', 'publishedServiceDifference',\n",
       "       'datePublishedNumerical', 'dateServiceNumerical'],\n",
       "      dtype='object')"
      ]
     },
     "execution_count": 68,
     "metadata": {},
     "output_type": "execute_result"
    }
   ],
   "source": [
    "df.columns"
   ]
  },
  {
   "cell_type": "code",
   "execution_count": 69,
   "metadata": {},
   "outputs": [],
   "source": [
    "df[\"marque\"] = df[\"marque\"].astype('category').cat.codes"
   ]
  },
  {
   "cell_type": "code",
   "execution_count": 70,
   "metadata": {},
   "outputs": [
    {
     "data": {
      "text/html": [
       "<div>\n",
       "<style scoped>\n",
       "    .dataframe tbody tr th:only-of-type {\n",
       "        vertical-align: middle;\n",
       "    }\n",
       "\n",
       "    .dataframe tbody tr th {\n",
       "        vertical-align: top;\n",
       "    }\n",
       "\n",
       "    .dataframe thead th {\n",
       "        text-align: right;\n",
       "    }\n",
       "</style>\n",
       "<table border=\"1\" class=\"dataframe\">\n",
       "  <thead>\n",
       "    <tr style=\"text-align: right;\">\n",
       "      <th></th>\n",
       "      <th>marque</th>\n",
       "      <th>rates</th>\n",
       "      <th>comments</th>\n",
       "      <th>datePublished</th>\n",
       "      <th>dateService</th>\n",
       "      <th>author</th>\n",
       "      <th>answer</th>\n",
       "      <th>datePublishedYear</th>\n",
       "      <th>dateServiceYear</th>\n",
       "      <th>datePublishedMonth</th>\n",
       "      <th>datePublishedDay</th>\n",
       "      <th>publishedServiceDifference</th>\n",
       "      <th>datePublishedNumerical</th>\n",
       "      <th>dateServiceNumerical</th>\n",
       "    </tr>\n",
       "  </thead>\n",
       "  <tbody>\n",
       "    <tr>\n",
       "      <th>0</th>\n",
       "      <td>0</td>\n",
       "      <td>5</td>\n",
       "      <td>Site internet clair et simple a la navigation....</td>\n",
       "      <td>2020-08-21</td>\n",
       "      <td>2020-07-15</td>\n",
       "      <td>np.nan</td>\n",
       "      <td>np.nan</td>\n",
       "      <td>2020</td>\n",
       "      <td>2020</td>\n",
       "      <td>8</td>\n",
       "      <td>21</td>\n",
       "      <td>37</td>\n",
       "      <td>737658</td>\n",
       "      <td>737621</td>\n",
       "    </tr>\n",
       "    <tr>\n",
       "      <th>1</th>\n",
       "      <td>0</td>\n",
       "      <td>5</td>\n",
       "      <td>Tout bon</td>\n",
       "      <td>2020-08-21</td>\n",
       "      <td>2020-06-21</td>\n",
       "      <td>np.nan</td>\n",
       "      <td>np.nan</td>\n",
       "      <td>2020</td>\n",
       "      <td>2020</td>\n",
       "      <td>8</td>\n",
       "      <td>21</td>\n",
       "      <td>61</td>\n",
       "      <td>737658</td>\n",
       "      <td>737597</td>\n",
       "    </tr>\n",
       "    <tr>\n",
       "      <th>2</th>\n",
       "      <td>0</td>\n",
       "      <td>5</td>\n",
       "      <td>La livraison à été conforme à mes attentes. Je...</td>\n",
       "      <td>2020-08-21</td>\n",
       "      <td>2020-07-15</td>\n",
       "      <td>np.nan</td>\n",
       "      <td>np.nan</td>\n",
       "      <td>2020</td>\n",
       "      <td>2020</td>\n",
       "      <td>8</td>\n",
       "      <td>21</td>\n",
       "      <td>37</td>\n",
       "      <td>737658</td>\n",
       "      <td>737621</td>\n",
       "    </tr>\n",
       "    <tr>\n",
       "      <th>3</th>\n",
       "      <td>0</td>\n",
       "      <td>4</td>\n",
       "      <td>discordance entre les dates de disponibilité a...</td>\n",
       "      <td>2020-08-21</td>\n",
       "      <td>2020-07-12</td>\n",
       "      <td>np.nan</td>\n",
       "      <td>np.nan</td>\n",
       "      <td>2020</td>\n",
       "      <td>2020</td>\n",
       "      <td>8</td>\n",
       "      <td>21</td>\n",
       "      <td>40</td>\n",
       "      <td>737658</td>\n",
       "      <td>737618</td>\n",
       "    </tr>\n",
       "    <tr>\n",
       "      <th>4</th>\n",
       "      <td>0</td>\n",
       "      <td>5</td>\n",
       "      <td>Impossible de faire un lavage à l'eau froide ;...</td>\n",
       "      <td>2020-08-21</td>\n",
       "      <td>2020-07-25</td>\n",
       "      <td>np.nan</td>\n",
       "      <td>np.nan</td>\n",
       "      <td>2020</td>\n",
       "      <td>2020</td>\n",
       "      <td>8</td>\n",
       "      <td>21</td>\n",
       "      <td>27</td>\n",
       "      <td>737658</td>\n",
       "      <td>737631</td>\n",
       "    </tr>\n",
       "  </tbody>\n",
       "</table>\n",
       "</div>"
      ],
      "text/plain": [
       "   marque  rates                                           comments  \\\n",
       "0       0      5  Site internet clair et simple a la navigation....   \n",
       "1       0      5                                           Tout bon   \n",
       "2       0      5  La livraison à été conforme à mes attentes. Je...   \n",
       "3       0      4  discordance entre les dates de disponibilité a...   \n",
       "4       0      5  Impossible de faire un lavage à l'eau froide ;...   \n",
       "\n",
       "  datePublished dateService  author  answer  datePublishedYear  \\\n",
       "0    2020-08-21  2020-07-15  np.nan  np.nan               2020   \n",
       "1    2020-08-21  2020-06-21  np.nan  np.nan               2020   \n",
       "2    2020-08-21  2020-07-15  np.nan  np.nan               2020   \n",
       "3    2020-08-21  2020-07-12  np.nan  np.nan               2020   \n",
       "4    2020-08-21  2020-07-25  np.nan  np.nan               2020   \n",
       "\n",
       "   dateServiceYear  datePublishedMonth  datePublishedDay  \\\n",
       "0             2020                   8                21   \n",
       "1             2020                   8                21   \n",
       "2             2020                   8                21   \n",
       "3             2020                   8                21   \n",
       "4             2020                   8                21   \n",
       "\n",
       "   publishedServiceDifference  datePublishedNumerical  dateServiceNumerical  \n",
       "0                          37                  737658                737621  \n",
       "1                          61                  737658                737597  \n",
       "2                          37                  737658                737621  \n",
       "3                          40                  737658                737618  \n",
       "4                          27                  737658                737631  "
      ]
     },
     "execution_count": 70,
     "metadata": {},
     "output_type": "execute_result"
    }
   ],
   "source": [
    "df.head()"
   ]
  },
  {
   "cell_type": "code",
   "execution_count": 71,
   "metadata": {},
   "outputs": [],
   "source": [
    "from sklearn.model_selection import train_test_split"
   ]
  },
  {
   "cell_type": "code",
   "execution_count": 72,
   "metadata": {},
   "outputs": [],
   "source": [
    "# Predict date of the comment\n",
    "\n",
    "X = df[['marque', 'dateServiceNumerical']]\n",
    "y = df['datePublishedNumerical']"
   ]
  },
  {
   "cell_type": "code",
   "execution_count": 73,
   "metadata": {},
   "outputs": [],
   "source": [
    "X_train, X_test, y_train, y_test = train_test_split(X, y, test_size=0.33, random_state=42)"
   ]
  },
  {
   "cell_type": "code",
   "execution_count": 74,
   "metadata": {},
   "outputs": [],
   "source": [
    "reg = LinearRegression().fit(X_train, y_train)"
   ]
  },
  {
   "cell_type": "code",
   "execution_count": 75,
   "metadata": {},
   "outputs": [],
   "source": [
    "pred = reg.predict(X_test)"
   ]
  },
  {
   "cell_type": "code",
   "execution_count": 76,
   "metadata": {},
   "outputs": [
    {
     "data": {
      "text/plain": [
       "58913    737631\n",
       "76455    737592\n",
       "85503    737620\n",
       "74301    737587\n",
       "34860    737647\n",
       "Name: datePublishedNumerical, dtype: int64"
      ]
     },
     "execution_count": 76,
     "metadata": {},
     "output_type": "execute_result"
    }
   ],
   "source": [
    "y_test.head()"
   ]
  },
  {
   "cell_type": "code",
   "execution_count": 77,
   "metadata": {},
   "outputs": [
    {
     "data": {
      "text/plain": [
       "array([737628.75005439, 737591.13397652, 737604.89595623, ...,\n",
       "       737619.57540125, 737643.42949941, 737596.63876841])"
      ]
     },
     "execution_count": 77,
     "metadata": {},
     "output_type": "execute_result"
    }
   ],
   "source": [
    "pred"
   ]
  },
  {
   "cell_type": "code",
   "execution_count": 78,
   "metadata": {},
   "outputs": [],
   "source": [
    "from sklearn.metrics import mean_squared_error, mean_absolute_error"
   ]
  },
  {
   "cell_type": "code",
   "execution_count": 79,
   "metadata": {},
   "outputs": [
    {
     "data": {
      "text/plain": [
       "487.85162173330315"
      ]
     },
     "execution_count": 79,
     "metadata": {},
     "output_type": "execute_result"
    }
   ],
   "source": [
    "mean_squared_error(y_test, pred)"
   ]
  },
  {
   "cell_type": "code",
   "execution_count": 80,
   "metadata": {},
   "outputs": [],
   "source": [
    "# based on the time of the service we can predict when the comment will be published. "
   ]
  },
  {
   "cell_type": "code",
   "execution_count": 81,
   "metadata": {},
   "outputs": [],
   "source": [
    "dfVentes = pd.read_csv('ventes.csv', sep=';')"
   ]
  },
  {
   "cell_type": "code",
   "execution_count": 82,
   "metadata": {},
   "outputs": [
    {
     "name": "stdout",
     "output_type": "stream",
     "text": [
      "<class 'pandas.core.frame.DataFrame'>\n",
      "RangeIndex: 366 entries, 0 to 365\n",
      "Data columns (total 5 columns):\n",
      "Date                   366 non-null object\n",
      "Ventes FNAC            366 non-null int64\n",
      "Ventes DARTY           366 non-null int64\n",
      "Top_categorie_FNAC     366 non-null object\n",
      "Top_categorie_Darty    366 non-null object\n",
      "dtypes: int64(2), object(3)\n",
      "memory usage: 14.4+ KB\n"
     ]
    }
   ],
   "source": [
    "dfVentes.info()"
   ]
  },
  {
   "cell_type": "code",
   "execution_count": 83,
   "metadata": {},
   "outputs": [
    {
     "data": {
      "text/html": [
       "<div>\n",
       "<style scoped>\n",
       "    .dataframe tbody tr th:only-of-type {\n",
       "        vertical-align: middle;\n",
       "    }\n",
       "\n",
       "    .dataframe tbody tr th {\n",
       "        vertical-align: top;\n",
       "    }\n",
       "\n",
       "    .dataframe thead th {\n",
       "        text-align: right;\n",
       "    }\n",
       "</style>\n",
       "<table border=\"1\" class=\"dataframe\">\n",
       "  <thead>\n",
       "    <tr style=\"text-align: right;\">\n",
       "      <th></th>\n",
       "      <th>Date</th>\n",
       "      <th>Ventes FNAC</th>\n",
       "      <th>Ventes DARTY</th>\n",
       "      <th>Top_categorie_FNAC</th>\n",
       "      <th>Top_categorie_Darty</th>\n",
       "    </tr>\n",
       "  </thead>\n",
       "  <tbody>\n",
       "    <tr>\n",
       "      <th>0</th>\n",
       "      <td>dimanche 1 septembre 2019</td>\n",
       "      <td>28243</td>\n",
       "      <td>13203</td>\n",
       "      <td>Livre</td>\n",
       "      <td>Informatique</td>\n",
       "    </tr>\n",
       "    <tr>\n",
       "      <th>1</th>\n",
       "      <td>lundi 2 septembre 2019</td>\n",
       "      <td>25006</td>\n",
       "      <td>9979</td>\n",
       "      <td>Livre</td>\n",
       "      <td>Electromenager</td>\n",
       "    </tr>\n",
       "    <tr>\n",
       "      <th>2</th>\n",
       "      <td>mardi 3 septembre 2019</td>\n",
       "      <td>28193</td>\n",
       "      <td>5684</td>\n",
       "      <td>Livre</td>\n",
       "      <td>Informatique</td>\n",
       "    </tr>\n",
       "    <tr>\n",
       "      <th>3</th>\n",
       "      <td>mercredi 4 septembre 2019</td>\n",
       "      <td>29666</td>\n",
       "      <td>7613</td>\n",
       "      <td>Livre</td>\n",
       "      <td>Electromenager</td>\n",
       "    </tr>\n",
       "    <tr>\n",
       "      <th>4</th>\n",
       "      <td>jeudi 5 septembre 2019</td>\n",
       "      <td>29584</td>\n",
       "      <td>10154</td>\n",
       "      <td>Livre</td>\n",
       "      <td>Informatique</td>\n",
       "    </tr>\n",
       "  </tbody>\n",
       "</table>\n",
       "</div>"
      ],
      "text/plain": [
       "                        Date  Ventes FNAC  Ventes DARTY Top_categorie_FNAC  \\\n",
       "0  dimanche 1 septembre 2019        28243         13203              Livre   \n",
       "1     lundi 2 septembre 2019        25006          9979              Livre   \n",
       "2     mardi 3 septembre 2019        28193          5684              Livre   \n",
       "3  mercredi 4 septembre 2019        29666          7613              Livre   \n",
       "4     jeudi 5 septembre 2019        29584         10154              Livre   \n",
       "\n",
       "  Top_categorie_Darty  \n",
       "0        Informatique  \n",
       "1      Electromenager  \n",
       "2        Informatique  \n",
       "3      Electromenager  \n",
       "4        Informatique  "
      ]
     },
     "execution_count": 83,
     "metadata": {},
     "output_type": "execute_result"
    }
   ],
   "source": [
    "dfVentes.head()"
   ]
  },
  {
   "cell_type": "code",
   "execution_count": 84,
   "metadata": {},
   "outputs": [
    {
     "name": "stdout",
     "output_type": "stream",
     "text": [
      "Requirement already satisfied: dateparser in /usr/local/lib/python3.6/site-packages (0.7.6)\n",
      "Requirement already satisfied: tzlocal in /usr/local/lib/python3.6/site-packages (from dateparser) (2.1)\n",
      "Requirement already satisfied: python-dateutil in /usr/local/lib/python3.6/site-packages (from dateparser) (2.8.0)\n",
      "Requirement already satisfied: regex!=2019.02.19 in /usr/local/lib/python3.6/site-packages (from dateparser) (2020.7.14)\n",
      "Requirement already satisfied: pytz in /usr/local/lib/python3.6/site-packages (from dateparser) (2018.9)\n",
      "Requirement already satisfied: six>=1.5 in /usr/local/lib/python3.6/site-packages (from python-dateutil->dateparser) (1.12.0)\n",
      "\u001b[33mWARNING: You are using pip version 20.1.1; however, version 20.2.3 is available.\n",
      "You should consider upgrading via the '/usr/local/opt/python/bin/python3.6 -m pip install --upgrade pip' command.\u001b[0m\n",
      "Note: you may need to restart the kernel to use updated packages.\n"
     ]
    }
   ],
   "source": [
    "pip install dateparser"
   ]
  },
  {
   "cell_type": "code",
   "execution_count": 85,
   "metadata": {},
   "outputs": [],
   "source": [
    "# so what we are going to do is grab is join the two tables in order to predict the number of comments possible"
   ]
  },
  {
   "cell_type": "code",
   "execution_count": 90,
   "metadata": {},
   "outputs": [],
   "source": [
    "#dfVentes['Date'].dt.month.value_counts()\n",
    "import dateparser"
   ]
  },
  {
   "cell_type": "code",
   "execution_count": 91,
   "metadata": {},
   "outputs": [],
   "source": [
    "dfVentes['Date'] = dfVentes.Date.replace('ao˚t', 'août', regex=True)"
   ]
  },
  {
   "cell_type": "code",
   "execution_count": 92,
   "metadata": {},
   "outputs": [],
   "source": [
    "dfVentes['date1'] = dfVentes.Date.apply(lambda x: dateparser.parse(x))"
   ]
  },
  {
   "cell_type": "code",
   "execution_count": 93,
   "metadata": {},
   "outputs": [],
   "source": [
    "dfVentes['date1_year'] = dfVentes['date1'].dt.year"
   ]
  },
  {
   "cell_type": "code",
   "execution_count": 94,
   "metadata": {},
   "outputs": [],
   "source": [
    "dfVentes['date1_month'] = dfVentes['date1'].dt.month"
   ]
  },
  {
   "cell_type": "code",
   "execution_count": 95,
   "metadata": {},
   "outputs": [],
   "source": [
    "# we are going to create the same table as previously and see what happens and see if there is a correlation between the number of comments and the number of sales"
   ]
  },
  {
   "cell_type": "code",
   "execution_count": 96,
   "metadata": {},
   "outputs": [
    {
     "data": {
      "text/plain": [
       "<matplotlib.axes._subplots.AxesSubplot at 0x11e5ef198>"
      ]
     },
     "execution_count": 96,
     "metadata": {},
     "output_type": "execute_result"
    },
    {
     "data": {
      "image/png": "[encoded data removed]",
      "text/plain": [
       "<Figure size 432x288 with 1 Axes>"
      ]
     },
     "metadata": {
      "needs_background": "light"
     },
     "output_type": "display_data"
    }
   ],
   "source": [
    "dfVentes[['Ventes FNAC', 'Ventes DARTY', 'date1_month']].groupby('date1_month').count().plot.bar()"
   ]
  },
  {
   "cell_type": "code",
   "execution_count": 97,
   "metadata": {},
   "outputs": [],
   "source": [
    "# we see that the number of sales doesn't really change all year around\n",
    "# we are going to add the two columns and see if there is a correlation between the number of sales and the number of comments"
   ]
  },
  {
   "cell_type": "code",
   "execution_count": 98,
   "metadata": {},
   "outputs": [],
   "source": [
    "dfVentes['Ventes'] = dfVentes['Ventes FNAC'] + dfVentes['Ventes DARTY']"
   ]
  },
  {
   "cell_type": "code",
   "execution_count": 99,
   "metadata": {},
   "outputs": [
    {
     "data": {
      "text/html": [
       "<div>\n",
       "<style scoped>\n",
       "    .dataframe tbody tr th:only-of-type {\n",
       "        vertical-align: middle;\n",
       "    }\n",
       "\n",
       "    .dataframe tbody tr th {\n",
       "        vertical-align: top;\n",
       "    }\n",
       "\n",
       "    .dataframe thead th {\n",
       "        text-align: right;\n",
       "    }\n",
       "</style>\n",
       "<table border=\"1\" class=\"dataframe\">\n",
       "  <thead>\n",
       "    <tr style=\"text-align: right;\">\n",
       "      <th></th>\n",
       "      <th>Date</th>\n",
       "      <th>Ventes FNAC</th>\n",
       "      <th>Ventes DARTY</th>\n",
       "      <th>Top_categorie_FNAC</th>\n",
       "      <th>Top_categorie_Darty</th>\n",
       "      <th>date1</th>\n",
       "      <th>date1_year</th>\n",
       "      <th>date1_month</th>\n",
       "      <th>Ventes</th>\n",
       "    </tr>\n",
       "  </thead>\n",
       "  <tbody>\n",
       "    <tr>\n",
       "      <th>0</th>\n",
       "      <td>dimanche 1 septembre 2019</td>\n",
       "      <td>28243</td>\n",
       "      <td>13203</td>\n",
       "      <td>Livre</td>\n",
       "      <td>Informatique</td>\n",
       "      <td>2019-09-01</td>\n",
       "      <td>2019</td>\n",
       "      <td>9</td>\n",
       "      <td>41446</td>\n",
       "    </tr>\n",
       "    <tr>\n",
       "      <th>1</th>\n",
       "      <td>lundi 2 septembre 2019</td>\n",
       "      <td>25006</td>\n",
       "      <td>9979</td>\n",
       "      <td>Livre</td>\n",
       "      <td>Electromenager</td>\n",
       "      <td>2019-09-02</td>\n",
       "      <td>2019</td>\n",
       "      <td>9</td>\n",
       "      <td>34985</td>\n",
       "    </tr>\n",
       "    <tr>\n",
       "      <th>2</th>\n",
       "      <td>mardi 3 septembre 2019</td>\n",
       "      <td>28193</td>\n",
       "      <td>5684</td>\n",
       "      <td>Livre</td>\n",
       "      <td>Informatique</td>\n",
       "      <td>2019-09-03</td>\n",
       "      <td>2019</td>\n",
       "      <td>9</td>\n",
       "      <td>33877</td>\n",
       "    </tr>\n",
       "    <tr>\n",
       "      <th>3</th>\n",
       "      <td>mercredi 4 septembre 2019</td>\n",
       "      <td>29666</td>\n",
       "      <td>7613</td>\n",
       "      <td>Livre</td>\n",
       "      <td>Electromenager</td>\n",
       "      <td>2019-09-04</td>\n",
       "      <td>2019</td>\n",
       "      <td>9</td>\n",
       "      <td>37279</td>\n",
       "    </tr>\n",
       "    <tr>\n",
       "      <th>4</th>\n",
       "      <td>jeudi 5 septembre 2019</td>\n",
       "      <td>29584</td>\n",
       "      <td>10154</td>\n",
       "      <td>Livre</td>\n",
       "      <td>Informatique</td>\n",
       "      <td>2019-09-05</td>\n",
       "      <td>2019</td>\n",
       "      <td>9</td>\n",
       "      <td>39738</td>\n",
       "    </tr>\n",
       "  </tbody>\n",
       "</table>\n",
       "</div>"
      ],
      "text/plain": [
       "                        Date  Ventes FNAC  Ventes DARTY Top_categorie_FNAC  \\\n",
       "0  dimanche 1 septembre 2019        28243         13203              Livre   \n",
       "1     lundi 2 septembre 2019        25006          9979              Livre   \n",
       "2     mardi 3 septembre 2019        28193          5684              Livre   \n",
       "3  mercredi 4 septembre 2019        29666          7613              Livre   \n",
       "4     jeudi 5 septembre 2019        29584         10154              Livre   \n",
       "\n",
       "  Top_categorie_Darty      date1  date1_year  date1_month  Ventes  \n",
       "0        Informatique 2019-09-01        2019            9   41446  \n",
       "1      Electromenager 2019-09-02        2019            9   34985  \n",
       "2        Informatique 2019-09-03        2019            9   33877  \n",
       "3      Electromenager 2019-09-04        2019            9   37279  \n",
       "4        Informatique 2019-09-05        2019            9   39738  "
      ]
     },
     "execution_count": 99,
     "metadata": {},
     "output_type": "execute_result"
    }
   ],
   "source": [
    "dfVentes.head()"
   ]
  },
  {
   "cell_type": "code",
   "execution_count": 100,
   "metadata": {},
   "outputs": [],
   "source": [
    "dfVentesGroupBy = dfVentes[['Ventes', 'date1_month']].groupby('date1_month').count()"
   ]
  },
  {
   "cell_type": "code",
   "execution_count": 101,
   "metadata": {},
   "outputs": [],
   "source": [
    "x = dfVentesGroupBy"
   ]
  },
  {
   "cell_type": "code",
   "execution_count": 102,
   "metadata": {},
   "outputs": [],
   "source": [
    "y = dfPredictAffluence.groupby('datePublishedMonth').sum()"
   ]
  },
  {
   "cell_type": "code",
   "execution_count": 103,
   "metadata": {},
   "outputs": [
    {
     "data": {
      "text/html": [
       "<div>\n",
       "<style scoped>\n",
       "    .dataframe tbody tr th:only-of-type {\n",
       "        vertical-align: middle;\n",
       "    }\n",
       "\n",
       "    .dataframe tbody tr th {\n",
       "        vertical-align: top;\n",
       "    }\n",
       "\n",
       "    .dataframe thead th {\n",
       "        text-align: right;\n",
       "    }\n",
       "</style>\n",
       "<table border=\"1\" class=\"dataframe\">\n",
       "  <thead>\n",
       "    <tr style=\"text-align: right;\">\n",
       "      <th></th>\n",
       "      <th>Ventes</th>\n",
       "      <th>datePublishedYear</th>\n",
       "      <th>datePublishedDay</th>\n",
       "    </tr>\n",
       "  </thead>\n",
       "  <tbody>\n",
       "    <tr>\n",
       "      <th>Ventes</th>\n",
       "      <td>1.000000</td>\n",
       "      <td>0.215831</td>\n",
       "      <td>0.137865</td>\n",
       "    </tr>\n",
       "    <tr>\n",
       "      <th>datePublishedYear</th>\n",
       "      <td>0.215831</td>\n",
       "      <td>1.000000</td>\n",
       "      <td>0.965562</td>\n",
       "    </tr>\n",
       "    <tr>\n",
       "      <th>datePublishedDay</th>\n",
       "      <td>0.137865</td>\n",
       "      <td>0.965562</td>\n",
       "      <td>1.000000</td>\n",
       "    </tr>\n",
       "  </tbody>\n",
       "</table>\n",
       "</div>"
      ],
      "text/plain": [
       "                     Ventes  datePublishedYear  datePublishedDay\n",
       "Ventes             1.000000           0.215831          0.137865\n",
       "datePublishedYear  0.215831           1.000000          0.965562\n",
       "datePublishedDay   0.137865           0.965562          1.000000"
      ]
     },
     "execution_count": 103,
     "metadata": {},
     "output_type": "execute_result"
    }
   ],
   "source": [
    "pd.concat([x,y], axis=1).corr()"
   ]
  },
  {
   "cell_type": "code",
   "execution_count": 104,
   "metadata": {},
   "outputs": [],
   "source": [
    "y = df.groupby('datePublishedNumerical')['comments'].count()"
   ]
  },
  {
   "cell_type": "code",
   "execution_count": 105,
   "metadata": {},
   "outputs": [],
   "source": [
    "dfVentes['date1Numerical'] = dfVentes['date1'].map(dt.datetime.toordinal)"
   ]
  },
  {
   "cell_type": "code",
   "execution_count": 106,
   "metadata": {},
   "outputs": [],
   "source": [
    "X = dfVentes.groupby('date1Numerical')['Ventes'].sum()"
   ]
  },
  {
   "cell_type": "code",
   "execution_count": 107,
   "metadata": {},
   "outputs": [],
   "source": [
    "predictionTable = pd.concat([X, y], axis=1, join='inner')"
   ]
  },
  {
   "cell_type": "code",
   "execution_count": 108,
   "metadata": {},
   "outputs": [],
   "source": [
    "predictionTable['date'] = predictionTable.index"
   ]
  },
  {
   "cell_type": "code",
   "execution_count": 109,
   "metadata": {},
   "outputs": [],
   "source": [
    "predictionTable = predictionTable.reset_index().drop(columns=['index'])"
   ]
  },
  {
   "cell_type": "code",
   "execution_count": 110,
   "metadata": {},
   "outputs": [
    {
     "data": {
      "text/html": [
       "<div>\n",
       "<style scoped>\n",
       "    .dataframe tbody tr th:only-of-type {\n",
       "        vertical-align: middle;\n",
       "    }\n",
       "\n",
       "    .dataframe tbody tr th {\n",
       "        vertical-align: top;\n",
       "    }\n",
       "\n",
       "    .dataframe thead th {\n",
       "        text-align: right;\n",
       "    }\n",
       "</style>\n",
       "<table border=\"1\" class=\"dataframe\">\n",
       "  <thead>\n",
       "    <tr style=\"text-align: right;\">\n",
       "      <th></th>\n",
       "      <th>Ventes</th>\n",
       "      <th>comments</th>\n",
       "      <th>date</th>\n",
       "    </tr>\n",
       "  </thead>\n",
       "  <tbody>\n",
       "    <tr>\n",
       "      <th>0</th>\n",
       "      <td>28612</td>\n",
       "      <td>26</td>\n",
       "      <td>737327</td>\n",
       "    </tr>\n",
       "    <tr>\n",
       "      <th>1</th>\n",
       "      <td>33656</td>\n",
       "      <td>141</td>\n",
       "      <td>737328</td>\n",
       "    </tr>\n",
       "    <tr>\n",
       "      <th>2</th>\n",
       "      <td>25233</td>\n",
       "      <td>141</td>\n",
       "      <td>737329</td>\n",
       "    </tr>\n",
       "    <tr>\n",
       "      <th>3</th>\n",
       "      <td>35581</td>\n",
       "      <td>64</td>\n",
       "      <td>737330</td>\n",
       "    </tr>\n",
       "    <tr>\n",
       "      <th>4</th>\n",
       "      <td>31166</td>\n",
       "      <td>128</td>\n",
       "      <td>737331</td>\n",
       "    </tr>\n",
       "  </tbody>\n",
       "</table>\n",
       "</div>"
      ],
      "text/plain": [
       "   Ventes  comments    date\n",
       "0   28612        26  737327\n",
       "1   33656       141  737328\n",
       "2   25233       141  737329\n",
       "3   35581        64  737330\n",
       "4   31166       128  737331"
      ]
     },
     "execution_count": 110,
     "metadata": {},
     "output_type": "execute_result"
    }
   ],
   "source": [
    "predictionTable.head()"
   ]
  },
  {
   "cell_type": "code",
   "execution_count": 111,
   "metadata": {},
   "outputs": [],
   "source": [
    "X_train, X_test, y_train, y_test = train_test_split(predictionTable[['Ventes', 'date']], predictionTable['comments'], test_size=0.33, random_state=42)"
   ]
  },
  {
   "cell_type": "code",
   "execution_count": 116,
   "metadata": {},
   "outputs": [],
   "source": [
    "from sklearn.ensemble import RandomForestRegressor"
   ]
  },
  {
   "cell_type": "code",
   "execution_count": 113,
   "metadata": {},
   "outputs": [],
   "source": [
    "regr = RandomForestRegressor(max_depth=2, random_state=0)"
   ]
  },
  {
   "cell_type": "code",
   "execution_count": 114,
   "metadata": {},
   "outputs": [],
   "source": [
    "regr = regr.fit(X_train, y_train)"
   ]
  },
  {
   "cell_type": "code",
   "execution_count": 115,
   "metadata": {},
   "outputs": [],
   "source": [
    "pred = regr.predict(X_test)"
   ]
  },
  {
   "cell_type": "code",
   "execution_count": 117,
   "metadata": {},
   "outputs": [
    {
     "data": {
      "text/plain": [
       "82.00827533601516"
      ]
     },
     "execution_count": 117,
     "metadata": {},
     "output_type": "execute_result"
    }
   ],
   "source": [
    "mean_absolute_error(y_test, pred)"
   ]
  },
  {
   "cell_type": "markdown",
   "metadata": {},
   "source": [
    "Let's look at the avg number of commments. We are wrongly predicting the number of comments by 82 on average. which is not bad considering that there are a lot of comments everyday. "
   ]
  },
  {
   "cell_type": "code",
   "execution_count": 119,
   "metadata": {},
   "outputs": [
    {
     "data": {
      "text/plain": [
       "269.97014925373134"
      ]
     },
     "execution_count": 119,
     "metadata": {},
     "output_type": "execute_result"
    }
   ],
   "source": [
    "predictionTable['comments'].mean()"
   ]
  },
  {
   "cell_type": "code",
   "execution_count": null,
   "metadata": {},
   "outputs": [],
   "source": []
  },
  {
   "cell_type": "code",
   "execution_count": null,
   "metadata": {},
   "outputs": [],
   "source": []
  }
 ],
 "metadata": {
  "kernelspec": {
   "display_name": "Python 3",
   "language": "python",
   "name": "python3"
  },
  "language_info": {
   "codemirror_mode": {
    "name": "ipython",
    "version": 3
   },
   "file_extension": ".py",
   "mimetype": "text/x-python",
   "name": "python",
   "nbconvert_exporter": "python",
   "pygments_lexer": "ipython3",
   "version": "3.6.5"
  }
 },
 "nbformat": 4,
 "nbformat_minor": 2
}
